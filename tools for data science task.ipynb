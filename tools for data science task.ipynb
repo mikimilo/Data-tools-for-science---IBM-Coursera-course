{
 "cells": [
  {
   "cell_type": "markdown",
   "id": "b21140c3",
   "metadata": {},
   "source": [
    "# My Jupyter Notebook on IBM Watson Studio"
   ]
  },
  {
   "cell_type": "markdown",
   "id": "94f75496",
   "metadata": {},
   "source": [
    "**Milorad Pasic**\n",
    "\n",
    "Programmer"
   ]
  },
  {
   "cell_type": "markdown",
   "id": "1d1e1607",
   "metadata": {},
   "source": [
    "*I'm interested in data science because it is an easy and well-paid job. It will provide food on the table, and as for personal satisfaction, I have to learn what I like to stay alive.*"
   ]
  },
  {
   "cell_type": "markdown",
   "id": "41885cfd",
   "metadata": {},
   "source": [
    "### Following code doesn't do anything special, just informs you of the current date and time from two different perspectives.\n"
   ]
  },
  {
   "cell_type": "code",
   "execution_count": 53,
   "id": "477a9874",
   "metadata": {
    "scrolled": true
   },
   "outputs": [
    {
     "name": "stdout",
     "output_type": "stream",
     "text": [
      "----------A Philosoph guy would says----------\n",
      "Current time is: 01 hours too much, 58 minutes too little and 24 seconds in life to remember\n",
      "of today's current day which is the 27th day of the 5th month in the year 2022\n",
      "\n",
      "----------A Technician guy would reply----------\n",
      "2022-05-27 01:58:24.258588\n"
     ]
    }
   ],
   "source": [
    "from datetime import datetime, date, time\n",
    "a = datetime.now()\n",
    "\n",
    "print(\"-\"*10,end='')\n",
    "print(\"A Philosoph guy would says\",end='')\n",
    "print(\"-\"*10)\n",
    "\n",
    "print (f'Current time is: {a.strftime(\"%H hours too much, %M minutes too little and %S seconds in life to remember\")}')\n",
    "print(f\"of today's current day which is the {a.day}th day of the {a.month}th month in the year {a.year}\\n\")\n",
    "print(\"-\"*10,end='')\n",
    "print(\"A Technician guy would reply\",end='')\n",
    "print(\"-\"*10)\n",
    "print(a)"
   ]
  },
  {
   "cell_type": "markdown",
   "id": "3589b2f7",
   "metadata": {},
   "source": [
    "\n",
    "---\n",
    "\n",
    "horizontal ruler above\n",
    "\n",
    "* bulleted list item 1\n",
    "* bulleted list item 2\n",
    "\n",
    "1. numbered list item 1\n",
    "2. numbered list item 2\n",
    "---\n",
    "tables\n",
    "\n",
    "Markdown | Less | Pretty\n",
    "--- | --- | ---\n",
    "*Still* | `renders` | **nicely**\n",
    "1 | 2 | 3\n",
    "\n",
    "---\n",
    "hyperlinks\n",
    "[This is a link to google](https://www.google.com)\n",
    "\n",
    "---\n",
    "image\n",
    "![alt text](https://github.com/adam-p/markdown-here/raw/master/src/common/images/icon48.png \"Logo Title Text 1\")\n",
    "\n",
    "---\n",
    "code/syntax highlighting\n",
    "```python\n",
    "s = \"Python syntax highlighting\"\n",
    "print s\n",
    "```\n",
    "---\n",
    "blocked quotes\n",
    "\n",
    "> Blockquotes blablabla blablabl blablabla blablabla\n",
    "> continues blablabla blablabla blablabla blablabla\n",
    "> to display more of blablabla blablabla blablabla\n",
    "---\n",
    "strikethrough\n",
    "\n",
    "~~old stuff not needed any more.~~\n",
    "\n",
    "\n",
    "**over and out**\n",
    "\n",
    "---"
   ]
  },
  {
   "cell_type": "code",
   "execution_count": null,
   "id": "8bbd7d89",
   "metadata": {},
   "outputs": [],
   "source": []
  }
 ],
 "metadata": {
  "kernelspec": {
   "display_name": "Python 3 (ipykernel)",
   "language": "python",
   "name": "python3"
  },
  "language_info": {
   "codemirror_mode": {
    "name": "ipython",
    "version": 3
   },
   "file_extension": ".py",
   "mimetype": "text/x-python",
   "name": "python",
   "nbconvert_exporter": "python",
   "pygments_lexer": "ipython3",
   "version": "3.9.7"
  }
 },
 "nbformat": 4,
 "nbformat_minor": 5
}
